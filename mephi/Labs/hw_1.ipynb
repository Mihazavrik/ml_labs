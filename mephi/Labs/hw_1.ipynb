{
 "cells": [
  {
   "cell_type": "code",
   "execution_count": 24,
   "id": "initial_id",
   "metadata": {
    "collapsed": true,
    "ExecuteTime": {
     "end_time": "2025-05-15T20:17:07.343429Z",
     "start_time": "2025-05-15T20:17:07.337873Z"
    }
   },
   "outputs": [],
   "source": [
    "import pandas as pd\n",
    "import numpy as np"
   ]
  },
  {
   "cell_type": "markdown",
   "source": [
    "Загрузка датасета"
   ],
   "metadata": {
    "collapsed": false
   },
   "id": "3d5c6b314c686485"
  },
  {
   "cell_type": "code",
   "outputs": [],
   "source": [
    "data = pd.read_csv('../MachineDeepLearning/introductory_laboratory_work (№1)/Dataset/Титаник.csv')"
   ],
   "metadata": {
    "collapsed": false,
    "ExecuteTime": {
     "end_time": "2025-05-15T20:17:08.376865Z",
     "start_time": "2025-05-15T20:17:08.370290Z"
    }
   },
   "id": "e4bb05a31b7d2c4f",
   "execution_count": 25
  },
  {
   "cell_type": "markdown",
   "source": [
    "Сколько мужчин было на корабле?"
   ],
   "metadata": {
    "collapsed": false
   },
   "id": "b7be8b535d43731c"
  },
  {
   "cell_type": "code",
   "outputs": [
    {
     "name": "stdout",
     "output_type": "stream",
     "text": [
      "1. Количество мужчин на корабле: 577\n"
     ]
    }
   ],
   "source": [
    "num_men = (data['Sex'] == 'male').sum()\n",
    "print(f\"1. Количество мужчин на корабле: {num_men}\")"
   ],
   "metadata": {
    "collapsed": false,
    "ExecuteTime": {
     "end_time": "2025-05-15T20:17:09.593083Z",
     "start_time": "2025-05-15T20:17:09.590338Z"
    }
   },
   "id": "e05fa18fd8144a47",
   "execution_count": 26
  },
  {
   "cell_type": "markdown",
   "source": [
    "Какая доля пассажиров (в %) выжила?"
   ],
   "metadata": {
    "collapsed": false
   },
   "id": "bd0c63b5f637851"
  },
  {
   "cell_type": "code",
   "outputs": [
    {
     "name": "stdout",
     "output_type": "stream",
     "text": [
      "2. Доля выживших пассажиров: 38.38%\n"
     ]
    }
   ],
   "source": [
    "survived_percent = (data['Survived'].mean()) * 100\n",
    "print(f\"2. Доля выживших пассажиров: {survived_percent:.2f}%\")"
   ],
   "metadata": {
    "collapsed": false,
    "ExecuteTime": {
     "end_time": "2025-05-15T20:17:10.773277Z",
     "start_time": "2025-05-15T20:17:10.768873Z"
    }
   },
   "id": "c8639ecab6115086",
   "execution_count": 27
  },
  {
   "cell_type": "markdown",
   "source": [
    "Какая доля пассажиров (в %) путешествовала во 2-м классе?"
   ],
   "metadata": {
    "collapsed": false
   },
   "id": "58089c0b522af5d"
  },
  {
   "cell_type": "code",
   "outputs": [
    {
     "name": "stdout",
     "output_type": "stream",
     "text": [
      "3. Доля пассажиров 2-го класса: 20.65%\n"
     ]
    }
   ],
   "source": [
    "second_class_percent = ((data['Pclass'] == 2).mean()) * 100\n",
    "print(f\"3. Доля пассажиров 2-го класса: {second_class_percent:.2f}%\")"
   ],
   "metadata": {
    "collapsed": false,
    "ExecuteTime": {
     "end_time": "2025-05-15T20:17:11.877137Z",
     "start_time": "2025-05-15T20:17:11.873854Z"
    }
   },
   "id": "cb99da7ffcfb7fe1",
   "execution_count": 28
  },
  {
   "cell_type": "markdown",
   "source": [
    "Средний и медианный возраст пассажиров"
   ],
   "metadata": {
    "collapsed": false
   },
   "id": "d36252a661049f02"
  },
  {
   "cell_type": "code",
   "outputs": [
    {
     "name": "stdout",
     "output_type": "stream",
     "text": [
      "4. Средний возраст: 29.70\n",
      "   Медианный возраст: 28.00\n"
     ]
    }
   ],
   "source": [
    "mean_age = data['Age'].mean()\n",
    "median_age = data['Age'].median()\n",
    "print(f\"4. Средний возраст: {mean_age:.2f}\")\n",
    "print(f\"   Медианный возраст: {median_age:.2f}\")"
   ],
   "metadata": {
    "collapsed": false,
    "ExecuteTime": {
     "end_time": "2025-05-15T20:17:13.024980Z",
     "start_time": "2025-05-15T20:17:13.020267Z"
    }
   },
   "id": "25e907d3d56a16fa",
   "execution_count": 29
  },
  {
   "cell_type": "markdown",
   "source": [
    "Корреляция Пирсона между SibSp и Parch"
   ],
   "metadata": {
    "collapsed": false
   },
   "id": "737fa12a58a6e79d"
  },
  {
   "cell_type": "code",
   "outputs": [
    {
     "name": "stdout",
     "output_type": "stream",
     "text": [
      "5. Корреляция между SibSp и Parch: 0.4148\n"
     ]
    }
   ],
   "source": [
    "correlation = data['SibSp'].corr(data['Parch'], method='pearson')\n",
    "print(f\"5. Корреляция между SibSp и Parch: {correlation:.4f}\")"
   ],
   "metadata": {
    "collapsed": false,
    "ExecuteTime": {
     "end_time": "2025-05-15T20:17:14.239224Z",
     "start_time": "2025-05-15T20:17:14.233828Z"
    }
   },
   "id": "d9ad633a16abc236",
   "execution_count": 30
  },
  {
   "cell_type": "markdown",
   "source": [
    "Самое популярное женское имя на корабле"
   ],
   "metadata": {
    "collapsed": false
   },
   "id": "7ad71a5f043eba65"
  },
  {
   "cell_type": "code",
   "outputs": [
    {
     "name": "stdout",
     "output_type": "stream",
     "text": [
      "6. Самое популярное женское имя: Anna\n"
     ]
    },
    {
     "name": "stderr",
     "output_type": "stream",
     "text": [
      "/var/folders/23/rv0gs7nx35dbcrtzwhv7kmth0000gn/T/ipykernel_22945/3781111362.py:14: SettingWithCopyWarning: \n",
      "A value is trying to be set on a copy of a slice from a DataFrame.\n",
      "Try using .loc[row_indexer,col_indexer] = value instead\n",
      "\n",
      "See the caveats in the documentation: https://pandas.pydata.org/pandas-docs/stable/user_guide/indexing.html#returning-a-view-versus-a-copy\n",
      "  women['FirstName'] = women['Name'].apply(extract_first_name)\n"
     ]
    }
   ],
   "source": [
    "women = data[data['Sex'] == 'female']\n",
    "\n",
    "import re\n",
    "\n",
    "def extract_first_name(full_name):\n",
    "    match = re.search(r'\\(([^)]+)\\)', full_name)\n",
    "    if match:\n",
    "        name = match.group(1).split(' ')[0]\n",
    "    else:\n",
    "        match = re.search(r'(Miss|Mrs|Ms)\\.?\\s+([A-Za-z]+)', full_name)\n",
    "        name = match.group(2) if match else ''\n",
    "    return name\n",
    "\n",
    "women['FirstName'] = women['Name'].apply(extract_first_name)\n",
    "\n",
    "most_common_name = women['FirstName'].value_counts().idxmax()\n",
    "print(f\"6. Самое популярное женское имя: {most_common_name}\")"
   ],
   "metadata": {
    "collapsed": false,
    "ExecuteTime": {
     "end_time": "2025-05-15T20:17:15.398011Z",
     "start_time": "2025-05-15T20:17:15.392470Z"
    }
   },
   "id": "538cfbbc23ab984d",
   "execution_count": 31
  }
 ],
 "metadata": {
  "kernelspec": {
   "display_name": "Python 3",
   "language": "python",
   "name": "python3"
  },
  "language_info": {
   "codemirror_mode": {
    "name": "ipython",
    "version": 2
   },
   "file_extension": ".py",
   "mimetype": "text/x-python",
   "name": "python",
   "nbconvert_exporter": "python",
   "pygments_lexer": "ipython2",
   "version": "2.7.6"
  }
 },
 "nbformat": 4,
 "nbformat_minor": 5
}
