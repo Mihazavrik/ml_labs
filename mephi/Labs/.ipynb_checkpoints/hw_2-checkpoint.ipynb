{
 "cells": [
  {
   "cell_type": "code",
   "execution_count": 3,
   "id": "initial_id",
   "metadata": {
    "collapsed": true,
    "ExecuteTime": {
     "end_time": "2025-05-15T20:12:44.944743Z",
     "start_time": "2025-05-15T20:12:27.751983Z"
    }
   },
   "outputs": [],
   "source": [
    "import numpy as np\n",
    "import matplotlib.pyplot as plt\n",
    "from sklearn.datasets import load_digits\n",
    "from sklearn.preprocessing import scale\n",
    "from sklearn.cluster import KMeans\n",
    "from sklearn import metrics\n",
    "from sklearn.decomposition import PCA\n",
    "import time"
   ]
  },
  {
   "cell_type": "markdown",
   "source": [
    "Загрузка данных и масштабирование признаков"
   ],
   "metadata": {
    "collapsed": false
   },
   "id": "2a1cf5c4f29c1efa"
  },
  {
   "cell_type": "code",
   "outputs": [],
   "source": [
    "# Загрузка датасета\n",
    "digits = load_digits()\n",
    "data = digits.data\n",
    "target = digits.target\n",
    "\n",
    "# Масштабирование признаков\n",
    "data_scaled = scale(data)"
   ],
   "metadata": {
    "collapsed": false
   },
   "id": "69122ed5bd1f4195",
   "execution_count": null
  },
  {
   "cell_type": "markdown",
   "source": [
    "Вывод информации о выборке"
   ],
   "metadata": {
    "collapsed": false
   },
   "id": "3a7634a8ee7140b3"
  },
  {
   "cell_type": "code",
   "outputs": [],
   "source": [
    "print(f\"Размерность массива данных: {data.shape}\")  # (n_samples, n_features)\n",
    "print(f\"Количество объектов: {data.shape[0]}\")      # Кол-во строк\n",
    "print(f\"Количество признаков: {data.shape[1]}\")     # Кол-во столбцов\n",
    "print(f\"Количество уникальных меток: {len(np.unique(target))}\")  # Всего 10 цифр"
   ],
   "metadata": {
    "collapsed": false
   },
   "id": "604404d543a28c8",
   "execution_count": null
  },
  {
   "cell_type": "markdown",
   "source": [
    "KMeans с инициализацией ‘k-means++’"
   ],
   "metadata": {
    "collapsed": false
   },
   "id": "d1c26cd101dda337"
  },
  {
   "cell_type": "code",
   "outputs": [],
   "source": [
    "n_clusters = len(np.unique(target))\n",
    "\n",
    "start_time = time.time()\n",
    "kmeans_plus = KMeans(init='k-means++', n_clusters=n_clusters, n_init=10, random_state=42)\n",
    "kmeans_plus.fit(data_scaled)\n",
    "elapsed_plus = time.time() - start_time\n",
    "\n",
    "labels_plus = kmeans_plus.labels_\n",
    "\n",
    "# Метрики\n",
    "ari_plus = metrics.adjusted_rand_score(target, labels_plus)\n",
    "ami_plus = metrics.adjusted_mutual_info_score(target, labels_plus)\n",
    "\n",
    "print(f\"\\nМетрика ARI (k-means++): {ari_plus:.4f}  # Adjusted Rand Index\")\n",
    "print(f\"Метрика AMI (k-means++): {ami_plus:.4f}  # Adjusted Mutual Information\")\n",
    "print(f\"Время выполнения (k-means++): {elapsed_plus:.4f} сек\")"
   ],
   "metadata": {
    "collapsed": false
   },
   "id": "7f3b235e3417f585",
   "execution_count": null
  },
  {
   "cell_type": "markdown",
   "source": [
    "KMeans с инициализацией ‘random’"
   ],
   "metadata": {
    "collapsed": false
   },
   "id": "a6fa550d3e92238b"
  },
  {
   "cell_type": "code",
   "outputs": [],
   "source": [
    "start_time = time.time()\n",
    "kmeans_random = KMeans(init='random', n_clusters=n_clusters, n_init=10, random_state=42)\n",
    "kmeans_random.fit(data_scaled)\n",
    "elapsed_random = time.time() - start_time\n",
    "\n",
    "labels_random = kmeans_random.labels_\n",
    "\n",
    "# Метрики\n",
    "ari_random = metrics.adjusted_rand_score(target, labels_random)\n",
    "ami_random = metrics.adjusted_mutual_info_score(target, labels_random)\n",
    "\n",
    "print(f\"\\nМетрика ARI (random): {ari_random:.4f}\")\n",
    "print(f\"Метрика AMI (random): {ami_random:.4f}\")\n",
    "print(f\"Время выполнения (random): {elapsed_random:.4f} сек\")"
   ],
   "metadata": {
    "collapsed": false
   },
   "id": "b993ce9feeb5b115",
   "execution_count": null
  },
  {
   "cell_type": "markdown",
   "source": [
    "PCA с количеством компонент = числу уникальных меток"
   ],
   "metadata": {
    "collapsed": false
   },
   "id": "ed0b934f9d44dc0d"
  },
  {
   "cell_type": "code",
   "outputs": [],
   "source": [
    "pca = PCA(n_components=n_clusters)\n",
    "data_pca = pca.fit_transform(data_scaled)"
   ],
   "metadata": {
    "collapsed": false
   },
   "id": "f0cf61c3330c1a01",
   "execution_count": null
  },
  {
   "cell_type": "markdown",
   "source": [
    "KMeans с инициализацией центров из PCA"
   ],
   "metadata": {
    "collapsed": false
   },
   "id": "b0d41e66f96291f1"
  },
  {
   "cell_type": "code",
   "outputs": [],
   "source": [
    "start_time = time.time()\n",
    "kmeans_pca = KMeans(init=pca.components_, n_clusters=n_clusters, n_init=1, random_state=42)\n",
    "kmeans_pca.fit(data_scaled)\n",
    "elapsed_pca = time.time() - start_time\n",
    "\n",
    "labels_pca = kmeans_pca.labels_\n",
    "\n",
    "# Метрики\n",
    "ari_pca = metrics.adjusted_rand_score(target, labels_pca)\n",
    "ami_pca = metrics.adjusted_mutual_info_score(target, labels_pca)\n",
    "\n",
    "print(f\"\\nМетрика ARI (PCA init): {ari_pca:.4f}\")\n",
    "print(f\"Метрика AMI (PCA init): {ami_pca:.4f}\")\n",
    "print(f\"Время выполнения (PCA init): {elapsed_pca:.4f} сек\")"
   ],
   "metadata": {
    "collapsed": false
   },
   "id": "36a3ab5753e09658",
   "execution_count": null
  },
  {
   "cell_type": "markdown",
   "source": [
    "Сравнение всех трёх моделей"
   ],
   "metadata": {
    "collapsed": false
   },
   "id": "624e309a62c162bd"
  },
  {
   "cell_type": "code",
   "outputs": [],
   "source": [
    "print(\"\\n🔍 Сравнение подходов:\")\n",
    "print(f\"KMeans++  → ARI: {ari_plus:.4f}, AMI: {ami_plus:.4f}, Время: {elapsed_plus:.4f} сек\")\n",
    "print(f\"Random    → ARI: {ari_random:.4f}, AMI: {ami_random:.4f}, Время: {elapsed_random:.4f} сек\")\n",
    "print(f\"PCA init  → ARI: {ari_pca:.4f}, AMI: {ami_pca:.4f}, Время: {elapsed_pca:.4f} сек\")"
   ],
   "metadata": {
    "collapsed": false
   },
   "id": "5cc2deb26ef0aada",
   "execution_count": null
  },
  {
   "cell_type": "markdown",
   "source": [
    "Визуализация кластеров и центров"
   ],
   "metadata": {
    "collapsed": false
   },
   "id": "6893be47f2824fdc"
  },
  {
   "cell_type": "code",
   "outputs": [],
   "source": [
    "pca_2d = PCA(n_components=2)\n",
    "data_2d = pca_2d.fit_transform(data_scaled)\n",
    "\n",
    "# Обучим снова для 2D визуализации\n",
    "kmeans_vis = KMeans(init='k-means++', n_clusters=n_clusters, n_init=10, random_state=42)\n",
    "kmeans_vis.fit(data_2d)\n",
    "labels_vis = kmeans_vis.labels_\n",
    "centers_2d = kmeans_vis.cluster_centers_"
   ],
   "metadata": {
    "collapsed": false
   },
   "id": "12075374b075ea58",
   "execution_count": null
  },
  {
   "cell_type": "code",
   "outputs": [],
   "source": [
    "plt.figure(figsize=(12, 8))\n",
    "plt.scatter(data_2d[:, 0], data_2d[:, 1], c=labels_vis, cmap='tab10', s=30, alpha=0.7)\n",
    "plt.scatter(centers_2d[:, 0], centers_2d[:, 1], c='black', s=200, marker='X', label='Центры кластеров')\n",
    "plt.title(\"Кластеры KMeans на 2D-плоскости (PCA)\")\n",
    "plt.legend()\n",
    "plt.grid(True)\n",
    "plt.show()"
   ],
   "metadata": {
    "collapsed": false
   },
   "id": "7119658529e0d370",
   "execution_count": null
  }
 ],
 "metadata": {
  "kernelspec": {
   "display_name": "Python 3",
   "language": "python",
   "name": "python3"
  },
  "language_info": {
   "codemirror_mode": {
    "name": "ipython",
    "version": 2
   },
   "file_extension": ".py",
   "mimetype": "text/x-python",
   "name": "python",
   "nbconvert_exporter": "python",
   "pygments_lexer": "ipython2",
   "version": "2.7.6"
  }
 },
 "nbformat": 4,
 "nbformat_minor": 5
}
