{
 "cells": [
  {
   "cell_type": "markdown",
   "source": [
    "Импорт библиотек"
   ],
   "metadata": {
    "collapsed": false
   },
   "id": "f37748ae119ad566"
  },
  {
   "cell_type": "code",
   "outputs": [],
   "source": [
    "import pandas as pd\n",
    "import numpy as np"
   ],
   "metadata": {
    "collapsed": false,
    "ExecuteTime": {
     "end_time": "2025-05-15T20:23:53.258043Z",
     "start_time": "2025-05-15T20:23:52.934606Z"
    }
   },
   "id": "a51ebb13115bf0a9",
   "execution_count": 1
  },
  {
   "cell_type": "markdown",
   "source": [
    "Загрузка и разбиение данных"
   ],
   "metadata": {
    "collapsed": false
   },
   "id": "581c0c2520c0b02b"
  },
  {
   "cell_type": "code",
   "execution_count": 2,
   "id": "initial_id",
   "metadata": {
    "collapsed": true,
    "ExecuteTime": {
     "end_time": "2025-05-15T20:23:53.265026Z",
     "start_time": "2025-05-15T20:23:53.259321Z"
    }
   },
   "outputs": [],
   "source": [
    "wine = pd.read_csv('../MachineDeepLearning/ClassificationAndRegression(4)/Dataset/wine.csv')\n",
    "X = wine.iloc[:, 1:].values\n",
    "y = wine.iloc[:, 0].values"
   ]
  },
  {
   "cell_type": "markdown",
   "source": [
    "Кросс-валидация без масштабирования"
   ],
   "metadata": {
    "collapsed": false
   },
   "id": "b02514e45bde9852"
  },
  {
   "cell_type": "code",
   "outputs": [
    {
     "name": "stdout",
     "output_type": "stream",
     "text": [
      "Лучшее k без масштабирования: 1\n",
      "Точность: 0.7513\n"
     ]
    }
   ],
   "source": [
    "from sklearn.model_selection import KFold, cross_val_score\n",
    "from sklearn.neighbors import KNeighborsClassifier\n",
    "\n",
    "kf = KFold(n_splits=10, shuffle=True, random_state=100)\n",
    "scores = []\n",
    "\n",
    "for k in range(1, 101):\n",
    "    clf = KNeighborsClassifier(n_neighbors=k)\n",
    "    cv_score = cross_val_score(clf, X, y, cv=kf, scoring='accuracy')\n",
    "    scores.append(cv_score.mean())\n",
    "\n",
    "best_k = np.argmax(scores) + 1\n",
    "best_score = scores[best_k - 1]\n",
    "\n",
    "print(f\"Лучшее k без масштабирования: {best_k}\")\n",
    "print(f\"Точность: {best_score:.4f}\")"
   ],
   "metadata": {
    "collapsed": false,
    "ExecuteTime": {
     "end_time": "2025-05-15T20:23:55.252856Z",
     "start_time": "2025-05-15T20:23:53.265959Z"
    }
   },
   "id": "a8ed1e954000ce56",
   "execution_count": 3
  },
  {
   "cell_type": "markdown",
   "source": [
    "Масштабирование признаков и повтор"
   ],
   "metadata": {
    "collapsed": false
   },
   "id": "3915d5ab2e254582"
  },
  {
   "cell_type": "code",
   "outputs": [
    {
     "name": "stdout",
     "output_type": "stream",
     "text": [
      "Лучшее k с масштабированием: 31\n",
      "Точность: 0.9827\n"
     ]
    }
   ],
   "source": [
    "from sklearn.preprocessing import scale\n",
    "\n",
    "X_scaled = scale(X)\n",
    "scores_scaled = []\n",
    "\n",
    "for k in range(1, 101):\n",
    "    clf = KNeighborsClassifier(n_neighbors=k)\n",
    "    cv_score = cross_val_score(clf, X_scaled, y, cv=kf, scoring='accuracy')\n",
    "    scores_scaled.append(cv_score.mean())\n",
    "\n",
    "best_k_scaled = np.argmax(scores_scaled) + 1\n",
    "best_score_scaled = scores_scaled[best_k_scaled - 1]\n",
    "\n",
    "print(f\"Лучшее k с масштабированием: {best_k_scaled}\")\n",
    "print(f\"Точность: {best_score_scaled:.4f}\")"
   ],
   "metadata": {
    "collapsed": false,
    "ExecuteTime": {
     "end_time": "2025-05-15T20:23:56.505137Z",
     "start_time": "2025-05-15T20:23:55.254362Z"
    }
   },
   "id": "fbc661de84b79e5e",
   "execution_count": 4
  }
 ],
 "metadata": {
  "kernelspec": {
   "display_name": "Python 3",
   "language": "python",
   "name": "python3"
  },
  "language_info": {
   "codemirror_mode": {
    "name": "ipython",
    "version": 2
   },
   "file_extension": ".py",
   "mimetype": "text/x-python",
   "name": "python",
   "nbconvert_exporter": "python",
   "pygments_lexer": "ipython2",
   "version": "2.7.6"
  }
 },
 "nbformat": 4,
 "nbformat_minor": 5
}
