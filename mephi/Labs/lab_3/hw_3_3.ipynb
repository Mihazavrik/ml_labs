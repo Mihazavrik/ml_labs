{
 "cells": [
  {
   "cell_type": "markdown",
   "source": [
    "Импорт библиотек"
   ],
   "metadata": {
    "collapsed": false
   },
   "id": "5d760b9c103b09a1"
  },
  {
   "cell_type": "code",
   "outputs": [],
   "source": [
    "import pandas as pd  \n",
    "import numpy as np\n",
    "from sklearn.datasets import fetch_california_housing\n",
    "from sklearn.neighbors import KNeighborsRegressor\n",
    "from sklearn.model_selection import cross_val_score, KFold\n",
    "from sklearn.preprocessing import scale"
   ],
   "metadata": {
    "collapsed": false,
    "ExecuteTime": {
     "end_time": "2025-05-15T20:24:11.211342Z",
     "start_time": "2025-05-15T20:24:10.135103Z"
    }
   },
   "id": "d955a470be0b539c",
   "execution_count": 1
  },
  {
   "cell_type": "markdown",
   "source": [
    "Загрузка и масштабирование данных"
   ],
   "metadata": {
    "collapsed": false
   },
   "id": "f50f23703d31a3c8"
  },
  {
   "cell_type": "code",
   "execution_count": 2,
   "id": "initial_id",
   "metadata": {
    "collapsed": true,
    "ExecuteTime": {
     "end_time": "2025-05-15T20:24:11.222510Z",
     "start_time": "2025-05-15T20:24:11.212295Z"
    }
   },
   "outputs": [],
   "source": [
    "boston = fetch_california_housing()\n",
    "X = scale(boston.data)\n",
    "y = boston.target\n",
    "\n",
    "feature_names = ['MedInc', 'HouseAge', 'AveRooms', 'AveBedrms', \n",
    "                 'Population', 'AveOccup', 'Latitude', 'Longitude']"
   ]
  },
  {
   "cell_type": "markdown",
   "source": [
    "Перебор значений параметра p"
   ],
   "metadata": {
    "collapsed": false
   },
   "id": "11d622efa8db1e7e"
  },
  {
   "cell_type": "code",
   "outputs": [
    {
     "name": "stdout",
     "output_type": "stream",
     "text": [
      "Лучшее значение p: 1.0000\n",
      "Наименьшая среднеквадратичная ошибка: 0.3563\n"
     ]
    }
   ],
   "source": [
    "ps = np.linspace(1, 20, 300)\n",
    "kf = KFold(n_splits=10, shuffle=True, random_state=100)\n",
    "mean_errors = []\n",
    "\n",
    "for p in ps:\n",
    "    knn = KNeighborsRegressor(n_neighbors=6, weights='distance', p=p)\n",
    "    scores = cross_val_score(knn, X, y, cv=kf, scoring='neg_mean_squared_error')\n",
    "    mean_errors.append(scores.mean())\n",
    "\n",
    "best_p = ps[np.argmax(mean_errors)]\n",
    "best_score = np.max(mean_errors)\n",
    "\n",
    "print(f\"Лучшее значение p: {best_p:.4f}\")\n",
    "print(f\"Наименьшая среднеквадратичная ошибка: {-best_score:.4f}\")"
   ],
   "metadata": {
    "collapsed": false,
    "ExecuteTime": {
     "end_time": "2025-05-15T20:36:03.802158Z",
     "start_time": "2025-05-15T20:24:11.223094Z"
    }
   },
   "id": "426cf459e23923a8",
   "execution_count": 3
  }
 ],
 "metadata": {
  "kernelspec": {
   "display_name": "Python 3",
   "language": "python",
   "name": "python3"
  },
  "language_info": {
   "codemirror_mode": {
    "name": "ipython",
    "version": 2
   },
   "file_extension": ".py",
   "mimetype": "text/x-python",
   "name": "python",
   "nbconvert_exporter": "python",
   "pygments_lexer": "ipython2",
   "version": "2.7.6"
  }
 },
 "nbformat": 4,
 "nbformat_minor": 5
}
